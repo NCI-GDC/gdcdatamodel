{
 "cells": [
  {
   "cell_type": "code",
   "execution_count": null,
   "metadata": {
    "collapsed": false
   },
   "outputs": [],
   "source": [
    "# PG_USER= PG_HOST= PG_DATABASE= PG_PASSWORD=   jupyter notebook\n",
    "\n",
    "import psqlgraph\n",
    "import os\n",
    "\n",
    "from graphviz import Digraph\n",
    "from IPython.display import display\n",
    "from gdcdatamodel.models import *\n",
    "from gdcdatamodel.viz import create_graphviz\n",
    "from psqlgraph import PsqlGraphDriver, Node, Edge\n",
    "\n",
    "HOST = os.environ.get('PG_HOST')\n",
    "USER = os.environ.get('PG_USER')\n",
    "DATABASE = os.environ.get('PG_DATABASE')\n",
    "PASSWORD = os.environ.get('PG_PASSWORD')\n",
    "\n",
    "g = psqlgraph.PsqlGraphDriver(HOST, USER, PASSWORD, DATABASE)\n",
    "print('Ready!')"
   ]
  },
  {
   "cell_type": "code",
   "execution_count": null,
   "metadata": {
    "collapsed": false,
    "scrolled": false
   },
   "outputs": [],
   "source": [
    "with g.session_scope():\n",
    "    cases = g.nodes(Case).subq_path('samples').limit(1).all()\n",
    "    case_neighbors = [edge.src for case in cases for edge in case.edges_in]\n",
    "    samples = [sample for case in cases for sample in case.samples]\n",
    "    portions = [portion for sample in samples for portion in sample.portions]\n",
    "    analytes = [analyte for portion in portions for analyte in portion.analytes]\n",
    "    aliquots = [aliquot for analyte in analytes for aliquot in analyte.aliquots]\n",
    "    nodes = cases + case_neighbors + samples + portions + analytes + aliquots\n",
    "    display(create_graphviz(nodes))"
   ]
  },
  {
   "cell_type": "code",
   "execution_count": null,
   "metadata": {
    "collapsed": true
   },
   "outputs": [],
   "source": [
    "## You may need to do something like the following if the above display() command does not render a graph for you\n",
    "\n",
    "# from IPython.display import Image \n",
    "\n",
    "# d = create_graphviz(nodes)\n",
    "# d.format = 'png'\n",
    "# d.render()\n",
    "\n",
    "# Image(filename='Digraph.gv.png')"
   ]
  }
 ],
 "metadata": {
  "kernelspec": {
   "display_name": "Python 2",
   "language": "python",
   "name": "python2"
  },
  "language_info": {
   "codemirror_mode": {
    "name": "ipython",
    "version": 2
   },
   "file_extension": ".py",
   "mimetype": "text/x-python",
   "name": "python",
   "nbconvert_exporter": "python",
   "pygments_lexer": "ipython2",
   "version": "2.7.10"
  }
 },
 "nbformat": 4,
 "nbformat_minor": 0
}